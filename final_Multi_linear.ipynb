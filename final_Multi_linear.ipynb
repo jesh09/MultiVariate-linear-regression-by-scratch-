{
  "nbformat": 4,
  "nbformat_minor": 0,
  "metadata": {
    "colab": {
      "name": "final_Multi_linear.ipynb",
      "version": "0.3.2",
      "provenance": [],
      "collapsed_sections": []
    },
    "kernelspec": {
      "name": "python3",
      "display_name": "Python 3"
    }
  },
  "cells": [
    {
      "metadata": {
        "id": "AUvtTyIXXpIg",
        "colab_type": "code",
        "colab": {}
      },
      "cell_type": "code",
      "source": [
        "import pandas as pd\n",
        "import numpy as np\n",
        "import matplotlib.pyplot as plt\n",
        "import matplotlib.animation as animation"
      ],
      "execution_count": 0,
      "outputs": []
    },
    {
      "metadata": {
        "id": "78I_tvq_7eJu",
        "colab_type": "code",
        "colab": {}
      },
      "cell_type": "code",
      "source": [
        "# Code to read csv file into Colaboratory:\n",
        "\n",
        "!pip install -U -q PyDrive\n",
        "from pydrive.auth import GoogleAuth\n",
        "from pydrive.drive import GoogleDrive\n",
        "from google.colab import auth\n",
        "from oauth2client.client import GoogleCredentials\n",
        "\n",
        "# Authenticate and create the PyDrive client.\n",
        "auth.authenticate_user()\n",
        "gauth = GoogleAuth()\n",
        "gauth.credentials = GoogleCredentials.get_application_default()\n",
        "drive = GoogleDrive(gauth)"
      ],
      "execution_count": 0,
      "outputs": []
    },
    {
      "metadata": {
        "id": "cYla8Ywx7m1K",
        "colab_type": "code",
        "colab": {}
      },
      "cell_type": "code",
      "source": [
        "link = \"https://drive.google.com/open?id=1rVMf-EsPvmEzXaue6Owzgc77RLxL6ZMe\"\n",
        "\n"
      ],
      "execution_count": 0,
      "outputs": []
    },
    {
      "metadata": {
        "id": "zgMBdfzm8UFl",
        "colab_type": "code",
        "colab": {}
      },
      "cell_type": "code",
      "source": [
        "#creating dataframe from link1\n",
        "fluff, id = link.split('=')\n",
        "downloaded = drive.CreateFile({'id':id}) \n",
        "downloaded.GetContentFile('Admission_Predict.csv')  \n",
        "data = pd.read_csv('Admission_Predict.csv')"
      ],
      "execution_count": 0,
      "outputs": []
    },
    {
      "metadata": {
        "id": "h15rCTeFLXg_",
        "colab_type": "code",
        "colab": {
          "base_uri": "https://localhost:8080/",
          "height": 34
        },
        "outputId": "f93ac255-b03c-4e90-9c9b-e9839cfeb515"
      },
      "cell_type": "code",
      "source": [
        "Data = data.select_dtypes(include=[\"int32\",\"int64\",\"float32\",\"float64\"])\n",
        "Data = Data.dropna(axis=0)\n",
        "\n",
        "\n",
        "Train = Data[:int(0.7*len(Data))]\n",
        "Test = Data[int(0.7*len(Data)):]\n",
        "\n",
        "Y = Train[\"Chance of Admit \"]\n",
        "Train = Train.drop(['Chance of Admit ','Research','Serial No.'],axis = 1).copy()\n",
        "Y.shape"
      ],
      "execution_count": 411,
      "outputs": [
        {
          "output_type": "execute_result",
          "data": {
            "text/plain": [
              "(280,)"
            ]
          },
          "metadata": {
            "tags": []
          },
          "execution_count": 411
        }
      ]
    },
    {
      "metadata": {
        "id": "EtClXa0E9qxy",
        "colab_type": "code",
        "colab": {
          "base_uri": "https://localhost:8080/",
          "height": 34
        },
        "outputId": "bba6e079-617f-43bd-9af1-101234aa5758"
      },
      "cell_type": "code",
      "source": [
        "Train.shape\n",
        "#Train.columns"
      ],
      "execution_count": 412,
      "outputs": [
        {
          "output_type": "execute_result",
          "data": {
            "text/plain": [
              "(280, 6)"
            ]
          },
          "metadata": {
            "tags": []
          },
          "execution_count": 412
        }
      ]
    },
    {
      "metadata": {
        "id": "y0j5ddvWbOXG",
        "colab_type": "code",
        "colab": {}
      },
      "cell_type": "code",
      "source": [
        "X = Train\n",
        "SelectedFeatures = X.columns.values.tolist()\n",
        "\n",
        "X = np.array(X)\n",
        "\n",
        "for i in range(len(X.T)):\n",
        "  X.T[i] = X.T[i] + 1"
      ],
      "execution_count": 0,
      "outputs": []
    },
    {
      "metadata": {
        "id": "_fFaSE1Xb6fZ",
        "colab_type": "code",
        "colab": {}
      },
      "cell_type": "code",
      "source": [
        "X = pd.DataFrame(X)"
      ],
      "execution_count": 0,
      "outputs": []
    },
    {
      "metadata": {
        "id": "F5aDa2rbb8ER",
        "colab_type": "code",
        "colab": {
          "base_uri": "https://localhost:8080/",
          "height": 34
        },
        "outputId": "28ab1953-5f76-45f4-f64c-e2fa189e2a61"
      },
      "cell_type": "code",
      "source": [
        "X.shape"
      ],
      "execution_count": 415,
      "outputs": [
        {
          "output_type": "execute_result",
          "data": {
            "text/plain": [
              "(280, 6)"
            ]
          },
          "metadata": {
            "tags": []
          },
          "execution_count": 415
        }
      ]
    },
    {
      "metadata": {
        "id": "jJH67vKvcDGo",
        "colab_type": "code",
        "colab": {}
      },
      "cell_type": "code",
      "source": [
        "TestY = Test[\"Chance of Admit \"]\n",
        "TestX = Test.drop([\"Chance of Admit \"],axis=1).copy()\n",
        "\n",
        "TestX = np.array(TestX)\n",
        "\n",
        "for i in range(len(TestX.T)):\n",
        "  TestX.T[i] = TestX.T[i] + 1"
      ],
      "execution_count": 0,
      "outputs": []
    },
    {
      "metadata": {
        "id": "zDKhgrVkcU_C",
        "colab_type": "code",
        "colab": {}
      },
      "cell_type": "code",
      "source": [
        "# print (\"ytest\",TestY)\n",
        "\n",
        "# print (\"xtest\",TestX)\n",
        "\n",
        "TestX = pd.DataFrame(TestX)"
      ],
      "execution_count": 0,
      "outputs": []
    },
    {
      "metadata": {
        "id": "0kbPXREpcbwK",
        "colab_type": "code",
        "colab": {
          "base_uri": "https://localhost:8080/",
          "height": 34
        },
        "outputId": "0434c829-7497-448a-f82f-f796c46715b1"
      },
      "cell_type": "code",
      "source": [
        "\n",
        "Y = np.array(Y)\n",
        "Y.shape\n",
        "Y = np.reshape(Y,[len(Y),1])\n",
        "TestY = np.array(TestY)\n",
        "TestY = np.reshape(TestY,[len(TestY),1])\n",
        "m = np.random.randn(1,len(X.T))\n",
        "print(X.shape,Y.shape,m.shape)\n"
      ],
      "execution_count": 418,
      "outputs": [
        {
          "output_type": "stream",
          "text": [
            "(280, 6) (280, 1) (1, 6)\n"
          ],
          "name": "stdout"
        }
      ]
    },
    {
      "metadata": {
        "id": "vn3OudX-cz9I",
        "colab_type": "code",
        "colab": {}
      },
      "cell_type": "code",
      "source": [
        "def line(m,X):\n",
        "  return np.dot(X,m.T)"
      ],
      "execution_count": 0,
      "outputs": []
    },
    {
      "metadata": {
        "id": "hpl1r_ztgaB_",
        "colab_type": "code",
        "colab": {
          "base_uri": "https://localhost:8080/",
          "height": 34
        },
        "outputId": "b97a4e7b-8f08-472b-fe9d-9ece3cbfbd6c"
      },
      "cell_type": "code",
      "source": [
        "line(m,X).shape"
      ],
      "execution_count": 420,
      "outputs": [
        {
          "output_type": "execute_result",
          "data": {
            "text/plain": [
              "(280, 1)"
            ]
          },
          "metadata": {
            "tags": []
          },
          "execution_count": 420
        }
      ]
    },
    {
      "metadata": {
        "id": "z87G_tE2f7vg",
        "colab_type": "code",
        "colab": {}
      },
      "cell_type": "code",
      "source": [
        "def cost(m,X,Y):\n",
        "  return np.mean((line(m,X) - Y)**2)"
      ],
      "execution_count": 0,
      "outputs": []
    },
    {
      "metadata": {
        "id": "W1JaLda1gq9o",
        "colab_type": "code",
        "colab": {
          "base_uri": "https://localhost:8080/",
          "height": 34
        },
        "outputId": "5dba58d8-fcd9-4285-dcda-2b1156e00389"
      },
      "cell_type": "code",
      "source": [
        "cost(m,X,Y)"
      ],
      "execution_count": 422,
      "outputs": [
        {
          "output_type": "execute_result",
          "data": {
            "text/plain": [
              "3300.231256592978"
            ]
          },
          "metadata": {
            "tags": []
          },
          "execution_count": 422
        }
      ]
    },
    {
      "metadata": {
        "id": "W0bmd1kxf-5S",
        "colab_type": "code",
        "colab": {}
      },
      "cell_type": "code",
      "source": [
        "def derivative(m,X,Y):\n",
        "  return np.dot((2*(line(m,X) - Y)).T,X)"
      ],
      "execution_count": 0,
      "outputs": []
    },
    {
      "metadata": {
        "id": "ER8eOQVRgvat",
        "colab_type": "code",
        "colab": {
          "base_uri": "https://localhost:8080/",
          "height": 34
        },
        "outputId": "17573e1d-8de0-419c-98bd-f8b9151ad2ac"
      },
      "cell_type": "code",
      "source": [
        "derivative(m,X,Y).shape"
      ],
      "execution_count": 424,
      "outputs": [
        {
          "output_type": "execute_result",
          "data": {
            "text/plain": [
              "(1, 6)"
            ]
          },
          "metadata": {
            "tags": []
          },
          "execution_count": 424
        }
      ]
    },
    {
      "metadata": {
        "id": "HfGxVPjcgOus",
        "colab_type": "code",
        "colab": {
          "base_uri": "https://localhost:8080/",
          "height": 2023
        },
        "outputId": "e656b2c3-f6ef-4ecd-b335-c4f1a62bacb1"
      },
      "cell_type": "code",
      "source": [
        "# Gradient descent\n",
        "LR = 0.000000009\n",
        "m1 = np.random.randn(1,len(X.T))/10000\n",
        "\n",
        "error = []\n",
        "# def gradient_descent(m1,X,Y,Iters,LR):\n",
        "for i in range(1000):\n",
        "  m1 = m1 - LR*derivative(m1,X,Y)\n",
        "  error.append(cost(m1,X,Y))\n",
        "  if(i%10==0):\n",
        "    print(\"error: \",error[i],\"iteration: \",i)\n",
        "#     c = c - derivative_c(m1,c,X,Y)\n",
        "import matplotlib.pyplot as plt\n",
        "plt.plot(error)"
      ],
      "execution_count": 425,
      "outputs": [
        {
          "output_type": "stream",
          "text": [
            "error:  0.1246805719131269 iteration:  0\n",
            "error:  0.015230507603166767 iteration:  10\n",
            "error:  0.01522579350096055 iteration:  20\n",
            "error:  0.015221088702998025 iteration:  30\n",
            "error:  0.015216388674784621 iteration:  40\n",
            "error:  0.01521169341094759 iteration:  50\n",
            "error:  0.015207002906120464 iteration:  60\n",
            "error:  0.015202317154942939 iteration:  70\n",
            "error:  0.015197636152060831 iteration:  80\n",
            "error:  0.015192959892126063 iteration:  90\n",
            "error:  0.015188288369796714 iteration:  100\n",
            "error:  0.015183621579736946 iteration:  110\n",
            "error:  0.01517895951661702 iteration:  120\n",
            "error:  0.015174302175113313 iteration:  130\n",
            "error:  0.015169649549908277 iteration:  140\n",
            "error:  0.01516500163569044 iteration:  150\n",
            "error:  0.015160358427154413 iteration:  160\n",
            "error:  0.015155719919000884 iteration:  170\n",
            "error:  0.015151086105936578 iteration:  180\n",
            "error:  0.015146456982674295 iteration:  190\n",
            "error:  0.015141832543932872 iteration:  200\n",
            "error:  0.015137212784437198 iteration:  210\n",
            "error:  0.015132597698918159 iteration:  220\n",
            "error:  0.015127987282112709 iteration:  230\n",
            "error:  0.01512338152876381 iteration:  240\n",
            "error:  0.015118780433620443 iteration:  250\n",
            "error:  0.015114183991437533 iteration:  260\n",
            "error:  0.015109592196976102 iteration:  270\n",
            "error:  0.015105005045003101 iteration:  280\n",
            "error:  0.015100422530291471 iteration:  290\n",
            "error:  0.015095844647620142 iteration:  300\n",
            "error:  0.015091271391774023 iteration:  310\n",
            "error:  0.015086702757543964 iteration:  320\n",
            "error:  0.015082138739726794 iteration:  330\n",
            "error:  0.015077579333125276 iteration:  340\n",
            "error:  0.01507302453254813 iteration:  350\n",
            "error:  0.015068474332810004 iteration:  360\n",
            "error:  0.015063928728731467 iteration:  370\n",
            "error:  0.015059387715139051 iteration:  380\n",
            "error:  0.015054851286865154 iteration:  390\n",
            "error:  0.015050319438748115 iteration:  400\n",
            "error:  0.015045792165632158 iteration:  410\n",
            "error:  0.015041269462367432 iteration:  420\n",
            "error:  0.015036751323809947 iteration:  430\n",
            "error:  0.015032237744821599 iteration:  440\n",
            "error:  0.015027728720270165 iteration:  450\n",
            "error:  0.015023224245029294 iteration:  460\n",
            "error:  0.015018724313978504 iteration:  470\n",
            "error:  0.015014228922003145 iteration:  480\n",
            "error:  0.01500973806399445 iteration:  490\n",
            "error:  0.01500525173484946 iteration:  500\n",
            "error:  0.015000769929471072 iteration:  510\n",
            "error:  0.014996292642768009 iteration:  520\n",
            "error:  0.014991819869654817 iteration:  530\n",
            "error:  0.014987351605051843 iteration:  540\n",
            "error:  0.014982887843885266 iteration:  550\n",
            "error:  0.014978428581087045 iteration:  560\n",
            "error:  0.01497397381159496 iteration:  570\n",
            "error:  0.014969523530352547 iteration:  580\n",
            "error:  0.01496507773230917 iteration:  590\n",
            "error:  0.014960636412419917 iteration:  600\n",
            "error:  0.014956199565645676 iteration:  610\n",
            "error:  0.014951767186953102 iteration:  620\n",
            "error:  0.014947339271314577 iteration:  630\n",
            "error:  0.014942915813708274 iteration:  640\n",
            "error:  0.014938496809118065 iteration:  650\n",
            "error:  0.014934082252533587 iteration:  660\n",
            "error:  0.014929672138950195 iteration:  670\n",
            "error:  0.014925266463368975 iteration:  680\n",
            "error:  0.014920865220796704 iteration:  690\n",
            "error:  0.014916468406245923 iteration:  700\n",
            "error:  0.01491207601473481 iteration:  710\n",
            "error:  0.0149076880412873 iteration:  720\n",
            "error:  0.014903304480932964 iteration:  730\n",
            "error:  0.014898925328707107 iteration:  740\n",
            "error:  0.014894550579650672 iteration:  750\n",
            "error:  0.014890180228810295 iteration:  760\n",
            "error:  0.014885814271238263 iteration:  770\n",
            "error:  0.014881452701992532 iteration:  780\n",
            "error:  0.0148770955161367 iteration:  790\n",
            "error:  0.014872742708740023 iteration:  800\n",
            "error:  0.014868394274877378 iteration:  810\n",
            "error:  0.014864050209629274 iteration:  820\n",
            "error:  0.014859710508081872 iteration:  830\n",
            "error:  0.014855375165326921 iteration:  840\n",
            "error:  0.0148510441764618 iteration:  850\n",
            "error:  0.014846717536589492 iteration:  860\n",
            "error:  0.014842395240818566 iteration:  870\n",
            "error:  0.014838077284263201 iteration:  880\n",
            "error:  0.014833763662043158 iteration:  890\n",
            "error:  0.014829454369283776 iteration:  900\n",
            "error:  0.014825149401115966 iteration:  910\n",
            "error:  0.014820848752676212 iteration:  920\n",
            "error:  0.014816552419106557 iteration:  930\n",
            "error:  0.014812260395554604 iteration:  940\n",
            "error:  0.014807972677173487 iteration:  950\n",
            "error:  0.0148036892591219 iteration:  960\n",
            "error:  0.014799410136564066 iteration:  970\n",
            "error:  0.014795135304669743 iteration:  980\n",
            "error:  0.0147908647586142 iteration:  990\n"
          ],
          "name": "stdout"
        },
        {
          "output_type": "execute_result",
          "data": {
            "text/plain": [
              "[<matplotlib.lines.Line2D at 0x7f8f26540cc0>]"
            ]
          },
          "metadata": {
            "tags": []
          },
          "execution_count": 425
        },
        {
          "output_type": "display_data",
          "data": {
            "image/png": "[encoded data removed]",
            "text/plain": [
              "<Figure size 432x288 with 1 Axes>"
            ]
          },
          "metadata": {
            "tags": []
          }
        }
      ]
    },
    {
      "metadata": {
        "id": "7k5QTouOg7O6",
        "colab_type": "code",
        "colab": {}
      },
      "cell_type": "code",
      "source": [
        ""
      ],
      "execution_count": 0,
      "outputs": []
    },
    {
      "metadata": {
        "id": "zSdM-ciUgXtg",
        "colab_type": "code",
        "colab": {
          "base_uri": "https://localhost:8080/",
          "height": 34
        },
        "outputId": "8f59246c-dd4d-4127-9d07-312d65617be3"
      },
      "cell_type": "code",
      "source": [
        "predictions = line(m,X)\n",
        "predictions\n",
        "error = cost(m1,X,Y)\n",
        "error\n",
        "acc = 100 - (error/np.mean(Y**2))*100\n",
        "# # print(acc.shape)\n",
        "print(\"Accuracy: \",acc,\"%\")"
      ],
      "execution_count": 426,
      "outputs": [
        {
          "output_type": "stream",
          "text": [
            "Accuracy:  97.32215963576806 %\n"
          ],
          "name": "stdout"
        }
      ]
    }
  ]
}